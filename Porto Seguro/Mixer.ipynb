{
 "cells": [
  {
   "cell_type": "code",
   "execution_count": 1,
   "metadata": {},
   "outputs": [],
   "source": [
    "import pandas as pd\n",
    "import numpy as np\n",
    "import seaborn as sns\n",
    "import matplotlib.pyplot as plt"
   ]
  },
  {
   "cell_type": "code",
   "execution_count": 2,
   "metadata": {},
   "outputs": [],
   "source": [
    "combined_many = pd.read_csv('combined_many.csv')\n",
    "combined_many2 = pd.read_csv('combined_many2.csv')\n",
    "featureful = pd.read_csv('featureful.csv')\n",
    "combined_1 = pd.read_csv('combined_1.csv')\n",
    "xgboost_6 = pd.read_csv('XGBoost_6.csv')\n",
    "xgb_optimal = pd.read_csv('XGB_OPTIMAL.CSV')\n",
    "combined_2 = pd.read_csv('combined_2.csv')\n",
    "xgb_optimal_knn = pd.read_csv('XGB_OPTIMAL_KNN.csv')\n",
    "xgboost_3 = pd.read_csv('XGBoost_3.csv')\n",
    "xgboost_7 = pd.read_csv('XGBoost_7.csv')\n",
    "knn_3000_800 = pd.read_csv('KNN_3000_800.csv')\n",
    "after_combined = pd.read_csv('After_combined.csv')"
   ]
  },
  {
   "cell_type": "code",
   "execution_count": 3,
   "metadata": {},
   "outputs": [],
   "source": [
    "data = pd.DataFrame({'cm' : combined_many['target'],\n",
    "                     'cm2' : combined_many2['target'],\n",
    "                     'f' : featureful['target'],\n",
    "                     'c1' : combined_1['target'],\n",
    "                     'x6' : xgboost_6['target'],\n",
    "                     'xo' : xgb_optimal['target'],\n",
    "                     'c2' : combined_2['target'],\n",
    "                     'xok' : xgb_optimal_knn['target'],\n",
    "                     'x3' : xgboost_3['target'],\n",
    "                     'x7' : xgboost_7['target'],\n",
    "                     'knn' : knn_3000_800['target'],\n",
    "                     'ac' : after_combined['target']})"
   ]
  },
  {
   "cell_type": "code",
   "execution_count": 4,
   "metadata": {},
   "outputs": [
    {
     "data": {
      "image/png": "[encoded data removed]",
      "text/plain": [
       "<matplotlib.figure.Figure at 0xfac34ca630>"
      ]
     },
     "metadata": {},
     "output_type": "display_data"
    }
   ],
   "source": [
    "cm = data.corr()\n",
    "sns.heatmap(cm)\n",
    "plt.show()"
   ]
  },
  {
   "cell_type": "code",
   "execution_count": 5,
   "metadata": {},
   "outputs": [
    {
     "data": {
      "text/html": [
       "<div>\n",
       "<style scoped>\n",
       "    .dataframe tbody tr th:only-of-type {\n",
       "        vertical-align: middle;\n",
       "    }\n",
       "\n",
       "    .dataframe tbody tr th {\n",
       "        vertical-align: top;\n",
       "    }\n",
       "\n",
       "    .dataframe thead th {\n",
       "        text-align: right;\n",
       "    }\n",
       "</style>\n",
       "<table border=\"1\" class=\"dataframe\">\n",
       "  <thead>\n",
       "    <tr style=\"text-align: right;\">\n",
       "      <th></th>\n",
       "      <th>ac</th>\n",
       "      <th>c1</th>\n",
       "      <th>c2</th>\n",
       "      <th>cm</th>\n",
       "      <th>cm2</th>\n",
       "      <th>f</th>\n",
       "      <th>knn</th>\n",
       "      <th>x3</th>\n",
       "      <th>x6</th>\n",
       "      <th>x7</th>\n",
       "      <th>xo</th>\n",
       "      <th>xok</th>\n",
       "    </tr>\n",
       "  </thead>\n",
       "  <tbody>\n",
       "    <tr>\n",
       "      <th>0</th>\n",
       "      <td>-0.416539</td>\n",
       "      <td>-0.294335</td>\n",
       "      <td>-0.397098</td>\n",
       "      <td>-0.380414</td>\n",
       "      <td>-0.339983</td>\n",
       "      <td>-0.394480</td>\n",
       "      <td>-0.362038</td>\n",
       "      <td>-0.214271</td>\n",
       "      <td>-0.300639</td>\n",
       "      <td>-0.410158</td>\n",
       "      <td>-0.431673</td>\n",
       "      <td>-0.519116</td>\n",
       "    </tr>\n",
       "    <tr>\n",
       "      <th>1</th>\n",
       "      <td>-0.633861</td>\n",
       "      <td>-0.438104</td>\n",
       "      <td>-0.395355</td>\n",
       "      <td>-0.415831</td>\n",
       "      <td>-0.428705</td>\n",
       "      <td>-0.547863</td>\n",
       "      <td>-0.571538</td>\n",
       "      <td>-0.453844</td>\n",
       "      <td>-0.456155</td>\n",
       "      <td>-0.424891</td>\n",
       "      <td>-0.647518</td>\n",
       "      <td>-0.539210</td>\n",
       "    </tr>\n",
       "    <tr>\n",
       "      <th>2</th>\n",
       "      <td>-0.586279</td>\n",
       "      <td>-0.675739</td>\n",
       "      <td>-0.620858</td>\n",
       "      <td>-0.609692</td>\n",
       "      <td>-0.684291</td>\n",
       "      <td>-0.698592</td>\n",
       "      <td>-0.777498</td>\n",
       "      <td>-0.537859</td>\n",
       "      <td>-0.625483</td>\n",
       "      <td>-0.523874</td>\n",
       "      <td>-0.485735</td>\n",
       "      <td>-0.702831</td>\n",
       "    </tr>\n",
       "    <tr>\n",
       "      <th>3</th>\n",
       "      <td>-1.180220</td>\n",
       "      <td>-1.165474</td>\n",
       "      <td>-1.150836</td>\n",
       "      <td>-1.169040</td>\n",
       "      <td>-1.191618</td>\n",
       "      <td>-1.131687</td>\n",
       "      <td>-1.233966</td>\n",
       "      <td>-1.130136</td>\n",
       "      <td>-1.160992</td>\n",
       "      <td>-1.096683</td>\n",
       "      <td>-1.128433</td>\n",
       "      <td>-1.267917</td>\n",
       "    </tr>\n",
       "    <tr>\n",
       "      <th>4</th>\n",
       "      <td>-0.111970</td>\n",
       "      <td>0.095722</td>\n",
       "      <td>-0.065466</td>\n",
       "      <td>-0.040109</td>\n",
       "      <td>-0.042577</td>\n",
       "      <td>0.043554</td>\n",
       "      <td>-0.285184</td>\n",
       "      <td>-0.014026</td>\n",
       "      <td>0.084147</td>\n",
       "      <td>-0.078679</td>\n",
       "      <td>-0.030604</td>\n",
       "      <td>0.083529</td>\n",
       "    </tr>\n",
       "  </tbody>\n",
       "</table>\n",
       "</div>"
      ],
      "text/plain": [
       "         ac        c1        c2        cm       cm2         f       knn  \\\n",
       "0 -0.416539 -0.294335 -0.397098 -0.380414 -0.339983 -0.394480 -0.362038   \n",
       "1 -0.633861 -0.438104 -0.395355 -0.415831 -0.428705 -0.547863 -0.571538   \n",
       "2 -0.586279 -0.675739 -0.620858 -0.609692 -0.684291 -0.698592 -0.777498   \n",
       "3 -1.180220 -1.165474 -1.150836 -1.169040 -1.191618 -1.131687 -1.233966   \n",
       "4 -0.111970  0.095722 -0.065466 -0.040109 -0.042577  0.043554 -0.285184   \n",
       "\n",
       "         x3        x6        x7        xo       xok  \n",
       "0 -0.214271 -0.300639 -0.410158 -0.431673 -0.519116  \n",
       "1 -0.453844 -0.456155 -0.424891 -0.647518 -0.539210  \n",
       "2 -0.537859 -0.625483 -0.523874 -0.485735 -0.702831  \n",
       "3 -1.130136 -1.160992 -1.096683 -1.128433 -1.267917  \n",
       "4 -0.014026  0.084147 -0.078679 -0.030604  0.083529  "
      ]
     },
     "execution_count": 5,
     "metadata": {},
     "output_type": "execute_result"
    }
   ],
   "source": [
    "# df = preprocessing.scale(data)\n",
    "df =  (data - data.mean(axis=0))/data.std(axis=0)\n",
    "df.head()"
   ]
  },
  {
   "cell_type": "code",
   "execution_count": 6,
   "metadata": {},
   "outputs": [],
   "source": [
    "df['max'] = df.max(axis=1)\n",
    "df['min'] = df.min(axis=1)\n",
    "df['mean'] = df.mean(axis=1)"
   ]
  },
  {
   "cell_type": "code",
   "execution_count": 7,
   "metadata": {},
   "outputs": [],
   "source": [
    "lst = ['max', 'min', 'mean']\n",
    "for l in lst:\n",
    "    df[l] = df[l]+abs(df[l].min(axis=0))+.1\n",
    "    df[l] = df[l]/max(1.2, df[l].max(axis=0)+.5)"
   ]
  },
  {
   "cell_type": "code",
   "execution_count": 8,
   "metadata": {},
   "outputs": [
    {
     "name": "stdout",
     "output_type": "stream",
     "text": [
      "Max: 0.99, Min: 0.00\n",
      "Max: 0.93, Min: 0.01\n",
      "Max: 0.98, Min: 0.00\n"
     ]
    }
   ],
   "source": [
    "for l in lst:\n",
    "    print('Max: {0:.2f}, Min: {1:.2f}'.format(df[l].max(axis=0), df[l].min(axis=0)))"
   ]
  },
  {
   "cell_type": "code",
   "execution_count": 9,
   "metadata": {},
   "outputs": [],
   "source": [
    "data_test = pd.read_csv('test/test.csv')\n",
    "\n",
    "sub_max_df = pd.DataFrame({'id': data_test['id'], 'target':df['max']})\n",
    "sub_min_df = pd.DataFrame({'id': data_test['id'], 'target':df['min']})\n",
    "sub_mean_df = pd.DataFrame({'id': data_test['id'], 'target':df['mean']})\n",
    "\n",
    "# Save to file for submission\n",
    "sub_max_df.to_csv('github_sub_max.csv', index=False)\n",
    "# sub_min_df.to_csv('sub_min.csv', index=False)\n",
    "sub_mean_df.to_csv('github_sub_mean.csv', index=False)"
   ]
  },
  {
   "cell_type": "code",
   "execution_count": 10,
   "metadata": {},
   "outputs": [
    {
     "data": {
      "image/png": "[encoded data removed]",
      "text/plain": [
       "<matplotlib.figure.Figure at 0xfac39c0d30>"
      ]
     },
     "metadata": {},
     "output_type": "display_data"
    }
   ],
   "source": [
    "plt.hist(sub_mean_df['target'], bins=100)\n",
    "plt.show()"
   ]
  }
 ],
 "metadata": {
  "kernelspec": {
   "display_name": "Python 3",
   "language": "python",
   "name": "python3"
  },
  "language_info": {
   "codemirror_mode": {
    "name": "ipython",
    "version": 3
   },
   "file_extension": ".py",
   "mimetype": "text/x-python",
   "name": "python",
   "nbconvert_exporter": "python",
   "pygments_lexer": "ipython3",
   "version": "3.5.4"
  }
 },
 "nbformat": 4,
 "nbformat_minor": 2
}
